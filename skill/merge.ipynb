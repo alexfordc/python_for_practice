{
 "cells": [
  {
   "cell_type": "code",
   "execution_count": 19,
   "metadata": {},
   "outputs": [],
   "source": [
    "# -*- coding:utf-8 -*-\n",
    "import numpy as np\n",
    "import pandas as pd\n",
    "import tushare as ts\n",
    "import matplotlib.pyplot as plt\n",
    "import time\n",
    "import datetime\n",
    "import pymssql\n",
    "from pandas import DataFrame\n",
    "from sqlalchemy import create_engine"
   ]
  },
  {
   "cell_type": "code",
   "execution_count": 5,
   "metadata": {},
   "outputs": [],
   "source": [
    "class MSSQL():\n",
    "    def __init__(self,host,user,pwd,db):\n",
    "        self.host = host\n",
    "        self.user = user\n",
    "        self.pwd = pwd\n",
    "        self.db = db\n",
    "\n",
    "    def __GetConnect(self):\n",
    "        if not self.db:\n",
    "            raise(NameError,\"没有设置数据库信息\")\n",
    "        self.conn = pymssql.connect(host=self.host,user=self.user,password=self.pwd,database=self.db,charset=\"utf8\")\n",
    "        cur = self.conn.cursor()\n",
    "        if not cur:\n",
    "            raise(NameError,\"连接数据库失败\")\n",
    "        else:\n",
    "            return cur\n",
    "\n",
    "    def ExecQuery(self,sql):\n",
    "        cur = self.__GetConnect()\n",
    "        cur.execute(sql)\n",
    "        resList = cur.fetchall()\n",
    "\n",
    "        #查询完毕后必须关闭连接\n",
    "        self.conn.close()\n",
    "        return resList\n",
    "\n",
    "    def ExecNonQuery(self,sql):\n",
    "        cur = self.__GetConnect()\n",
    "        cur.execute(sql)\n",
    "        self.conn.commit()\n",
    "        self.conn.close()"
   ]
  },
  {
   "cell_type": "code",
   "execution_count": 10,
   "metadata": {
    "scrolled": true
   },
   "outputs": [
    {
     "data": {
      "text/plain": [
       "'ms = MSSQL(host=\"47.99.34.248:3433\",user=\"mj\",pwd=\"xlk20180709\",db=\"Datepython\")\\nreslist = ms.ExecQuery(\"select * from dbo.测试\")\\nfor i in reslist:\\n    print(i)\\nnewsql=\"update dbo.测试 set name=\\'%s\\' where id=1\"%u\\'测试\\'\\nprint(newsql)\\nms.ExecNonQuery(newsql.encode(\\'utf-8\\'))'"
      ]
     },
     "execution_count": 10,
     "metadata": {},
     "output_type": "execute_result"
    }
   ],
   "source": [
    "'''ms = MSSQL(host=\"47.99.34.248:3433\",user=\"mj\",pwd=\"xlk20180709\",db=\"Datepython\")\n",
    "reslist = ms.ExecQuery(\"select * from dbo.测试\")\n",
    "for i in reslist:\n",
    "    print(i)\n",
    "newsql=\"update dbo.测试 set name='%s' where id=1\"%u'测试'\n",
    "print(newsql)\n",
    "ms.ExecNonQuery(newsql.encode('utf-8'))'''"
   ]
  },
  {
   "cell_type": "code",
   "execution_count": 16,
   "metadata": {},
   "outputs": [],
   "source": [
    "startdate = datetime.date(2005,1,1)\n",
    "enddate   = datetime.datetime.now().date()"
   ]
  },
  {
   "cell_type": "code",
   "execution_count": 18,
   "metadata": {
    "scrolled": true
   },
   "outputs": [
    {
     "data": {
      "text/plain": [
       "'t0 = datetime.datetime.now().strftime(\"%Y-%m-%d\")\\nfor i in range((enddate-startdate).days+1):\\n    if i%10==0:\\n        day1=startdate+datetime.timedelta(days=i)\\n        day2=startdate+datetime.timedelta(days=i+10)\\n        df = ts.get_k_data(\\'300016\\',ktype=\\'5\\',start=day1,end=day2)\\ndf.to_csv(\\'300016.csv\\')\\ndf = pd.read_csv(\\'300016.csv\\',index_col=[\\'date\\',\\'open\\',\\'close\\',\\'high\\',\\'low\\',\\'volume\\',\\'code\\'])\\nprint(df)'"
      ]
     },
     "execution_count": 18,
     "metadata": {},
     "output_type": "execute_result"
    }
   ],
   "source": [
    "'''t0 = datetime.datetime.now().strftime(\"%Y-%m-%d\")\n",
    "for i in range((enddate-startdate).days+1):\n",
    "    if i%10==0:\n",
    "        day1=startdate+datetime.timedelta(days=i)\n",
    "        day2=startdate+datetime.timedelta(days=i+10)\n",
    "        df = ts.get_k_data('300016',ktype='5',start=day1,end=day2)\n",
    "df.to_csv('300016.csv')\n",
    "df = pd.read_csv('300016.csv',index_col=['date','open','close','high','low','volume','code'])\n",
    "print(df)'''"
   ]
  },
  {
   "cell_type": "code",
   "execution_count": 147,
   "metadata": {},
   "outputs": [
    {
     "name": "stdout",
     "output_type": "stream",
     "text": [
      "                    date   open   high    low  close  volume\n",
      "0    2018-06-26 15:00:00  11.20  11.28  11.19  11.26  3120.0\n",
      "1    2018-06-26 15:00:00  11.26  11.29  11.26  11.29  1087.0\n",
      "2    2018-06-27 10:30:00  11.25  11.34  11.10  11.28  3739.0\n",
      "3    2018-06-27 10:30:00  11.28  11.31  11.20  11.28  3680.0\n",
      "4    2018-06-27 10:30:00  11.28  11.34  11.28  11.28  1131.0\n",
      "5    2018-06-27 10:30:00  11.28  11.38  11.26  11.37  1601.0\n",
      "6    2018-06-27 10:30:00  11.37  11.43  11.35  11.36  1465.0\n",
      "7    2018-06-27 10:30:00  11.36  11.36  11.29  11.31  1036.0\n",
      "8    2018-06-27 10:30:00  11.31  11.33  11.26  11.27  1451.0\n",
      "9    2018-06-27 10:30:00  11.27  11.31  11.27  11.31   810.0\n",
      "10   2018-06-27 10:30:00  11.31  11.35  11.30  11.32   536.0\n",
      "11   2018-06-27 10:30:00  11.32  11.35  11.31  11.32   511.0\n",
      "12   2018-06-27 10:30:00  11.32  11.36  11.31  11.34   579.0\n",
      "13   2018-06-27 10:30:00  11.34  11.34  11.31  11.32   672.0\n",
      "14   2018-06-27 11:30:00  11.32  11.33  11.30  11.30   784.0\n",
      "15   2018-06-27 11:30:00  11.30  11.31  11.29  11.30   845.0\n",
      "16   2018-06-27 11:30:00  11.30  11.31  11.29  11.30   814.0\n",
      "17   2018-06-27 11:30:00  11.30  11.31  11.26  11.26  1084.0\n",
      "18   2018-06-27 11:30:00  11.26  11.29  11.26  11.29   363.0\n",
      "19   2018-06-27 11:30:00  11.29  11.29  11.25  11.25   797.0\n",
      "20   2018-06-27 11:30:00  11.25  11.27  11.20  11.21  1578.0\n",
      "21   2018-06-27 11:30:00  11.21  11.26  11.20  11.26   511.0\n",
      "22   2018-06-27 11:30:00  11.26  11.27  11.21  11.21   533.0\n",
      "23   2018-06-27 11:30:00  11.21  11.23  11.19  11.22   384.0\n",
      "24   2018-06-27 11:30:00  11.22  11.25  11.21  11.23   296.0\n",
      "25   2018-06-27 11:30:00  11.23  11.23  11.21  11.22   222.0\n",
      "26   2018-06-27 14:00:00  11.22  11.23  11.21  11.21   663.0\n",
      "27   2018-06-27 14:00:00  11.21  11.21  11.19  11.19   481.0\n",
      "28   2018-06-27 14:00:00  11.19  11.19  11.18  11.18   571.0\n",
      "29   2018-06-27 14:00:00  11.18  11.18  11.15  11.16  2095.0\n",
      "..                   ...    ...    ...    ...    ...     ...\n",
      "476  2018-07-10 15:00:00  11.66  11.66  11.64  11.64  1079.0\n",
      "477  2018-07-10 15:00:00  11.64  11.65  11.64  11.64  1566.0\n",
      "478  2018-07-10 15:00:00  11.64  11.68  11.64  11.67  1775.0\n",
      "479  2018-07-10 15:00:00  11.67  11.70  11.64  11.64  3723.0\n",
      "480  2018-07-10 15:00:00  11.64  11.68  11.62  11.64  1498.0\n",
      "481  2018-07-10 15:00:00  11.64  11.65  11.62  11.65  1714.0\n",
      "482  2018-07-11 10:30:00  11.40  11.46  11.38  11.42  7074.0\n",
      "483  2018-07-11 10:30:00  11.42  11.42  11.36  11.42  6705.0\n",
      "484  2018-07-11 10:30:00  11.42  11.46  11.42  11.44  2073.0\n",
      "485  2018-07-11 10:30:00  11.44  11.47  11.43  11.44  1394.0\n",
      "486  2018-07-11 10:30:00  11.44  11.45  11.41  11.43   876.0\n",
      "487  2018-07-11 10:30:00  11.43  11.43  11.40  11.43  1767.0\n",
      "488  2018-07-11 10:30:00  11.43  11.48  11.42  11.47  1223.0\n",
      "489  2018-07-11 10:30:00  11.47  11.48  11.44  11.48  1022.0\n",
      "490  2018-07-11 10:30:00  11.48  11.52  11.45  11.46  1164.0\n",
      "491  2018-07-11 10:30:00  11.46  11.49  11.46  11.47   739.0\n",
      "492  2018-07-11 10:30:00  11.47  11.50  11.45  11.46  1677.0\n",
      "493  2018-07-11 10:30:00  11.46  11.50  11.46  11.50   696.0\n",
      "494  2018-07-11 11:30:00  11.50  11.53  11.48  11.48  1106.0\n",
      "495  2018-07-11 11:30:00  11.48  11.52  11.48  11.50   652.0\n",
      "496  2018-07-11 11:30:00  11.50  11.51  11.48  11.48   672.0\n",
      "497  2018-07-11 11:30:00  11.48  11.49  11.45  11.47   756.0\n",
      "498  2018-07-11 11:30:00  11.47  11.47  11.37  11.38  2345.0\n",
      "499  2018-07-11 11:30:00  11.38  11.42  11.37  11.42  1676.0\n",
      "500  2018-07-11 11:30:00  11.42  11.42  11.33  11.36  1672.0\n",
      "501  2018-07-11 11:30:00  11.36  11.37  11.33  11.35  1273.0\n",
      "502  2018-07-11 11:30:00  11.35  11.37  11.35  11.37  1133.0\n",
      "503  2018-07-11 11:30:00  11.37  11.42  11.36  11.40   507.0\n",
      "504  2018-07-11 11:30:00  11.40  11.41  11.35  11.35   569.0\n",
      "505  2018-07-11 11:30:00  11.35  11.37  11.33  11.33   825.0\n",
      "\n",
      "[506 rows x 6 columns]\n"
     ]
    }
   ],
   "source": [
    "t0 = datetime.datetime.now().strftime(\"%Y-%m-%d\")\n",
    "df = ts.get_k_data('300016',ktype='5',start='2018-07-01',end=t0)\n",
    "\n",
    "df = pd.DataFrame(df,columns=['date','open','high','low','close','volume'])\n",
    "\n",
    "df['close']  = list(map(lambda b: float(b),df['close']))\n",
    "df['high']   = list(map(lambda c: float(c),df['high']))\n",
    "df['low']    = list(map(lambda d: float(d),df['low']))\n",
    "df['open']   = list(map(lambda e: float(e),df['open']))\n",
    "df['volume'] = list(map(lambda f: float(f),df['volume']))\n",
    "df['date']   = list(map(lambda x:datetime.datetime.strptime(x,'%Y-%m-%d %H:%M'),df['date']))\n",
    "\n",
    "replace=[]\n",
    "\n",
    "for i in df['date']:\n",
    "    dt0 = datetime.datetime.strftime(i,\"%Y-%m-%d\")\n",
    "    dt1 = datetime.datetime.strftime(i,\"%H:%M\")\n",
    "    dt2 = datetime.datetime.strptime(dt1,\"%H:%M\")\n",
    "    times = ['10:30','11:30','14:00','15:00']\n",
    "    T = [datetime.datetime.strptime(t,\"%H:%M\") for t in times]\n",
    "    for j in T:\n",
    "        diff = j - dt2\n",
    "        #print(diff.days)\n",
    "        #print(diff.seconds)\n",
    "        if diff.seconds < 3600 and diff.days >= 0:\n",
    "            dt2 = j \n",
    "            #print(dt2)\n",
    "    i = datetime.datetime.strptime(dt0+' '+datetime.datetime.strftime(dt2,\"%H:%M\"),'%Y-%m-%d %H:%M')\n",
    "    #print(i)\n",
    "    replace.append(i)\n",
    "\n",
    "df['date'] = replace\n",
    "\n",
    "df.to_csv('300016.csv',index=None)\n",
    "df = pd.read_csv('300016.csv')\n",
    "#print(df['open'][0])\n",
    "#tlist = pd.to_datetime(df['date'])\n",
    "#print(tlist)\n",
    "#df = df.set_index(tlist)\n",
    "print(df)"
   ]
  },
  {
   "cell_type": "code",
   "execution_count": 153,
   "metadata": {},
   "outputs": [],
   "source": [
    "def ohlcsum(df):\n",
    "    df = df.sort_values(by='date',ascending=False)\n",
    "    #df = df.sort()\n",
    "    return {'open': df['open'].values[0],\n",
    "             'high': df['high'].max(),\n",
    "             'low': df['low'].min(),\n",
    "             'close': df['close'].values[-1],\n",
    "             'volume': df['volume'].sum()\n",
    "            }"
   ]
  },
  {
   "cell_type": "code",
   "execution_count": 155,
   "metadata": {},
   "outputs": [
    {
     "name": "stdout",
     "output_type": "stream",
     "text": [
      "                      open   high    low  close   volume\n",
      "date                                                    \n",
      "2018-06-26 15:00:00  11.20  11.29  11.19  11.29   4207.0\n",
      "2018-06-27 10:30:00  11.25  11.43  11.10  11.32  17211.0\n",
      "2018-06-27 11:30:00  11.32  11.33  11.19  11.22   8211.0\n",
      "2018-06-27 14:00:00  11.22  11.23  11.11  11.14  12988.0\n",
      "2018-06-27 15:00:00  11.14  11.21  11.11  11.16  12561.0\n",
      "2018-06-28 10:30:00  11.15  11.28  11.05  11.08  15793.0\n",
      "2018-06-28 11:30:00  11.08  11.18  11.04  11.13   9166.0\n",
      "2018-06-28 14:00:00  11.13  11.20  11.10  11.11   6330.0\n",
      "2018-06-28 15:00:00  11.11  11.15  10.94  10.97  14444.0\n",
      "2018-06-29 10:30:00  10.97  11.19  10.95  11.17  18150.0\n",
      "2018-06-29 11:30:00  11.17  11.30  11.14  11.30  16854.0\n",
      "2018-06-29 14:00:00  11.30  11.42  11.28  11.40  22420.0\n",
      "2018-06-29 15:00:00  11.40  11.47  11.35  11.45  17979.0\n",
      "2018-07-02 10:30:00  11.40  11.53  11.35  11.42  22112.0\n",
      "2018-07-02 11:30:00  11.42  11.45  11.31  11.31  11143.0\n",
      "2018-07-02 14:00:00  11.31  11.33  11.21  11.25  11957.0\n",
      "2018-07-02 15:00:00  11.25  11.25  11.09  11.24  18080.0\n",
      "2018-07-03 10:30:00  11.28  11.39  11.20  11.34  22541.0\n",
      "2018-07-03 11:30:00  11.34  11.45  11.24  11.37  15055.0\n",
      "2018-07-03 14:00:00  11.37  11.57  11.36  11.50  15491.0\n",
      "2018-07-03 15:00:00  11.50  11.70  11.50  11.67  24123.0\n",
      "2018-07-04 10:30:00  11.55  11.60  11.40  11.44  24037.0\n",
      "2018-07-04 11:30:00  11.44  11.52  11.36  11.41   8478.0\n",
      "2018-07-04 14:00:00  11.41  11.46  11.37  11.43   7161.0\n",
      "2018-07-04 15:00:00  11.43  11.44  11.28  11.38  15948.0\n",
      "2018-07-05 10:30:00  11.39  11.45  11.25  11.30  17494.0\n",
      "2018-07-05 11:30:00  11.30  11.48  11.30  11.33  11986.0\n",
      "2018-07-05 14:00:00  11.33  11.39  11.28  11.31   7175.0\n",
      "2018-07-05 15:00:00  11.31  11.37  11.09  11.11  14290.0\n",
      "2018-07-06 10:30:00  11.12  11.30  11.03  11.07  19109.0\n",
      "2018-07-06 11:30:00  11.07  11.11  10.70  11.08  23125.0\n",
      "2018-07-06 14:00:00  11.08  11.34  11.08  11.29  21956.0\n",
      "2018-07-06 15:00:00  11.29  11.34  11.04  11.09  14959.0\n",
      "2018-07-09 10:30:00  11.15  11.47  11.15  11.42  25568.0\n",
      "2018-07-09 11:30:00  11.42  11.44  11.34  11.44   8674.0\n",
      "2018-07-09 14:00:00  11.44  11.52  11.41  11.45  10383.0\n",
      "2018-07-09 15:00:00  11.45  11.48  11.41  11.48  16757.0\n",
      "2018-07-10 10:30:00  11.49  11.62  11.36  11.46  19172.0\n",
      "2018-07-10 11:30:00  11.46  11.47  11.40  11.47   8204.0\n",
      "2018-07-10 14:00:00  11.47  11.77  11.44  11.58  31245.0\n",
      "2018-07-10 15:00:00  11.58  11.70  11.55  11.65  16805.0\n",
      "2018-07-11 10:30:00  11.40  11.52  11.36  11.50  26410.0\n",
      "2018-07-11 11:30:00  11.50  11.53  11.33  11.33  13186.0\n"
     ]
    }
   ],
   "source": [
    "'''if df['date'][0] == df['date'][1]:\n",
    "    print(True)\n",
    "else:\n",
    "    print(False)'''\n",
    "#print(df['open'][0])\n",
    "#print(df['high'].max())\n",
    "#print(df['volume'].sum())\n",
    "#print(type(df['close']))\n",
    "#print(df['close'].values[-1])\n",
    "df0 = df.groupby(['date']).agg(ohlcsum)\n",
    "print(df0)"
   ]
  },
  {
   "cell_type": "code",
   "execution_count": 141,
   "metadata": {},
   "outputs": [
    {
     "data": {
      "text/plain": [
       "\"ohlc_dict = {                                                                                                             \\n'open':'first',                                                                                                    \\n'high':'max',                                                                                                       \\n'low':'min',                                                                                                        \\n'close': 'last',                                                                                                    \\n'volume': 'sum'\\n}\\ndf1 = df.resample('60min',how=ohlc_dict,closed='left', label='left')\""
      ]
     },
     "execution_count": 141,
     "metadata": {},
     "output_type": "execute_result"
    }
   ],
   "source": [
    "'''ohlc_dict = {                                                                                                             \n",
    "'open':'first',                                                                                                    \n",
    "'high':'max',                                                                                                       \n",
    "'low':'min',                                                                                                        \n",
    "'close': 'last',                                                                                                    \n",
    "'volume': 'sum'\n",
    "}\n",
    "df1 = df.resample('60min',how=ohlc_dict,closed='left', label='left')'''"
   ]
  },
  {
   "cell_type": "code",
   "execution_count": null,
   "metadata": {},
   "outputs": [],
   "source": []
  }
 ],
 "metadata": {
  "kernelspec": {
   "display_name": "Python 3",
   "language": "python",
   "name": "python3"
  },
  "language_info": {
   "codemirror_mode": {
    "name": "ipython",
    "version": 3
   },
   "file_extension": ".py",
   "mimetype": "text/x-python",
   "name": "python",
   "nbconvert_exporter": "python",
   "pygments_lexer": "ipython3",
   "version": "3.6.4"
  }
 },
 "nbformat": 4,
 "nbformat_minor": 2
}
